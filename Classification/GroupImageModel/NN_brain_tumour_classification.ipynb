{
 "cells": [
  {
   "cell_type": "markdown",
   "metadata": {},
   "source": [
    "# Table of Contents\n",
    "1. Introduction\n",
    "2. Import\n",
    "3. Analysis & Preprocessing\n",
    "4. Model\n",
    "5. Conclution"
   ]
  },
  {
   "cell_type": "markdown",
   "metadata": {},
   "source": [
    "# 1. Introduction\n",
    "Using VGG-16 https://towardsdatascience.com/step-by-step-vgg16-implementation-in-keras-for-beginners-a833c686ae6c\n",
    "The following details are taken from the link above: \n",
    "\n",
    "The following are the layers of the model:\n",
    "\n",
    "- Convolutional Layers = 13\n",
    "- Pooling Layers = 5\n",
    "- Dense Layers = 3\n",
    "\n",
    "### Model Layers\n",
    "\n",
    "1. **Input: Image of dimensions (224, 224, 3).**\n",
    "2. **Convolution Layer Conv1:**\n",
    "    - Conv1-1: 64 filters\n",
    "    - Conv1-2: 64 filters and Max Pooling\n",
    "    - Image dimensions: (224, 224)\n",
    "3. **Convolution layer Conv2: Now, we increase the filters to 128**\n",
    "    - Input Image dimensions: (112,112)\n",
    "    - Conv2-1: 128 filters\n",
    "    - Conv2-2: 128 filters and Max Pooling\n",
    "4. **Convolution Layer Conv3: Again, double the filters to 256, and now add another convolution layer**\n",
    "    - Input Image dimensions: (56,56)\n",
    "    - Conv3-1: 256 filters\n",
    "    - Conv3-2: 256 filters\n",
    "    - Conv3-3: 256 filters and Max Pooling\n",
    "5. **Convolution Layer Conv4: Similar to Conv3, but now with 512 filters**\n",
    "    - Input Image dimensions: (28, 28)\n",
    "    - Conv4-1: 512 filters\n",
    "    - Conv4-2: 512 filters\n",
    "    - Conv4-3: 512 filters and Max Pooling\n",
    "6. **Convolution Layer Conv5: Same as Conv4**\n",
    "    - Input Image dimensions: (14, 14)\n",
    "    - Conv5-1: 512 filters\n",
    "    - Conv5-2: 512 filters\n",
    "    - Conv5-3: 512 filters and Max Pooling\n",
    "    - The output dimensions here are (7, 7). At this point, we flatten the output of this layer to generate a feature vector\n",
    "7. **Fully Connected/Dense FC1: 4096 nodes, generating a feature vector of size(1, 4096)**\n",
    "8. **Fully ConnectedDense FC2: 4096 nodes generating a feature vector of size(1, 4096)**\n",
    "9. **Fully Connected /Dense FC3: 4096 nodes, generating 1000 channels for 1000 classes. This is then passed on to a Softmax activation function**\n",
    "10. **Output layer**"
   ]
  },
  {
   "cell_type": "markdown",
   "metadata": {},
   "source": [
    "# 2. Import"
   ]
  },
  {
   "cell_type": "code",
   "execution_count": 6,
   "metadata": {},
   "outputs": [],
   "source": [
    "import numpy as np\n",
    "import pandas as pd\n",
    "import tensorflow as tf\n",
    "from tensorflow import keras\n",
    "from keras.preprocessing.image import ImageDataGenerator\n",
    "from keras import layers \n",
    "from keras import Model \n",
    "import matplotlib.pyplot as plt\n",
    "import shutil #for split into train, val, test\n",
    "import random\n",
    "import os\n",
    "\n",
    "# for dirname, _, filenames in os.walk('data/Brain_Tumor'):\n",
    "#     for filename in filenames:\n",
    "#         print(os.path.join(dirname, filename))"
   ]
  },
  {
   "cell_type": "markdown",
   "metadata": {},
   "source": [
    "# 3. Analysis & Preprocessing"
   ]
  },
  {
   "cell_type": "code",
   "execution_count": 8,
   "metadata": {},
   "outputs": [
    {
     "name": "stdout",
     "output_type": "stream",
     "text": [
      "Total images:  5\n",
      "Training:  4\n",
      "Validation:  0\n",
      "Testing:  1\n",
      "Train copied successfully.\n",
      "Error occurred while copying file.\n"
     ]
    }
   ],
   "source": [
    "classes = ['Healthy', 'Brain_Tumor'] #labels\n",
    "\n",
    "import shutil\n",
    "root_dir = '/Users/rachelrenegado/Desktop/Winter2022/BMEN415/BMEN415_Final_Project/Classification/GroupImageModel/data/' # data root path\n",
    "\n",
    "val_ratio = 0.15\n",
    "test_ratio = 0.05\n",
    "\n",
    "for cls in classes:\n",
    "    os.makedirs(root_dir +'train/' + cls)\n",
    "    os.makedirs(root_dir +'val/' + cls)\n",
    "    os.makedirs(root_dir +'test/' + cls)\n",
    "\n",
    "\n",
    "# Creating partitions of the data after shuffeling\n",
    "src = root_dir + cls # Folder to copy images from\n",
    "\n",
    "allFileNames = os.listdir(src)\n",
    "np.random.shuffle(allFileNames)\n",
    "train_FileNames, val_FileNames, test_FileNames = np.split(np.array(allFileNames),\n",
    "                                                          [int(len(allFileNames)* (1 - (val_ratio + test_ratio))), \n",
    "                                                           int(len(allFileNames)* (1 - test_ratio))])\n",
    "\n",
    "\n",
    "train_FileNames = [src+'/'+ name for name in train_FileNames.tolist()]\n",
    "val_FileNames = [src+'/' + name for name in val_FileNames.tolist()]\n",
    "test_FileNames = [src+'/' + name for name in test_FileNames.tolist()]\n",
    "\n",
    "print('Total images: ', len(allFileNames))\n",
    "print('Training: ', len(train_FileNames))\n",
    "print('Validation: ', len(val_FileNames))\n",
    "print('Testing: ', len(test_FileNames))\n",
    "\n",
    "try:\n",
    "    # Copy-pasting images\n",
    "    for name in train_FileNames:\n",
    "        shutil.copy(name, root_dir +'train/' + cls)\n",
    "        print(\"Train copied successfully.\")\n",
    "\n",
    "    for name in val_FileNames:\n",
    "        shutil.copy(name, root_dir +'val/' + cls)\n",
    "        print(\"Val copied successfully.\")\n",
    "\n",
    "    for name in test_FileNames:\n",
    "        shutil.copy(name, root_dir +'test/' + cls)\n",
    "        print(\"Test copied successfully.\")\n",
    "         \n",
    "# If source and destination are same\n",
    "except shutil.SameFileError:\n",
    "    print(\"Source and destination represents the same file.\")\n",
    " \n",
    "# if there is any permission issue\n",
    "except PermissionError:\n",
    "    print(\"Permission denied.\")\n",
    " \n",
    "# For other errors\n",
    "except:\n",
    "    print(\"Error occurred while copying file.\")"
   ]
  }
 ],
 "metadata": {
  "interpreter": {
   "hash": "31f2aee4e71d21fbe5cf8b01ff0e069b9275f58929596ceb00d14d90e3e16cd6"
  },
  "kernelspec": {
   "display_name": "Python 3 (ipykernel)",
   "language": "python",
   "name": "python3"
  },
  "language_info": {
   "codemirror_mode": {
    "name": "ipython",
    "version": 3
   },
   "file_extension": ".py",
   "mimetype": "text/x-python",
   "name": "python",
   "nbconvert_exporter": "python",
   "pygments_lexer": "ipython3",
   "version": "3.8.13"
  }
 },
 "nbformat": 4,
 "nbformat_minor": 2
}
