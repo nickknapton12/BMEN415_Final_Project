{
 "cells": [
  {
   "cell_type": "code",
   "execution_count": 3,
   "metadata": {},
   "outputs": [],
   "source": [
    "import numpy as np\n",
    "import pandas as pd\n",
    "import matplotlib.pyplot as plt\n",
    "import sklearn.metrics as metrics\n",
    "import sklearn.model_selection as ms\n",
    "import tensorflow as tf\n",
    "from tensorflow import keras\n",
    "import seaborn as sns \n",
    "from keras.backend import clear_session\n",
    "from keras.utils import to_categorical"
   ]
  },
  {
   "cell_type": "code",
   "execution_count": 2,
   "metadata": {},
   "outputs": [
    {
     "data": {
      "text/html": [
       "<div>\n",
       "<style scoped>\n",
       "    .dataframe tbody tr th:only-of-type {\n",
       "        vertical-align: middle;\n",
       "    }\n",
       "\n",
       "    .dataframe tbody tr th {\n",
       "        vertical-align: top;\n",
       "    }\n",
       "\n",
       "    .dataframe thead th {\n",
       "        text-align: right;\n",
       "    }\n",
       "</style>\n",
       "<table border=\"1\" class=\"dataframe\">\n",
       "  <thead>\n",
       "    <tr style=\"text-align: right;\">\n",
       "      <th></th>\n",
       "      <th>baseline value</th>\n",
       "      <th>accelerations</th>\n",
       "      <th>fetal_movement</th>\n",
       "      <th>uterine_contractions</th>\n",
       "      <th>light_decelerations</th>\n",
       "      <th>severe_decelerations</th>\n",
       "      <th>prolongued_decelerations</th>\n",
       "      <th>abnormal_short_term_variability</th>\n",
       "      <th>mean_value_of_short_term_variability</th>\n",
       "      <th>percentage_of_time_with_abnormal_long_term_variability</th>\n",
       "      <th>...</th>\n",
       "      <th>histogram_min</th>\n",
       "      <th>histogram_max</th>\n",
       "      <th>histogram_number_of_peaks</th>\n",
       "      <th>histogram_number_of_zeroes</th>\n",
       "      <th>histogram_mode</th>\n",
       "      <th>histogram_mean</th>\n",
       "      <th>histogram_median</th>\n",
       "      <th>histogram_variance</th>\n",
       "      <th>histogram_tendency</th>\n",
       "      <th>fetal_health</th>\n",
       "    </tr>\n",
       "  </thead>\n",
       "  <tbody>\n",
       "    <tr>\n",
       "      <th>1396</th>\n",
       "      <td>142.0</td>\n",
       "      <td>0.001</td>\n",
       "      <td>0.000</td>\n",
       "      <td>0.007</td>\n",
       "      <td>0.004</td>\n",
       "      <td>0.0</td>\n",
       "      <td>0.000</td>\n",
       "      <td>49.0</td>\n",
       "      <td>0.9</td>\n",
       "      <td>28.0</td>\n",
       "      <td>...</td>\n",
       "      <td>68.0</td>\n",
       "      <td>182.0</td>\n",
       "      <td>2.0</td>\n",
       "      <td>0.0</td>\n",
       "      <td>153.0</td>\n",
       "      <td>146.0</td>\n",
       "      <td>154.0</td>\n",
       "      <td>37.0</td>\n",
       "      <td>1.0</td>\n",
       "      <td>1.0</td>\n",
       "    </tr>\n",
       "    <tr>\n",
       "      <th>1664</th>\n",
       "      <td>106.0</td>\n",
       "      <td>0.000</td>\n",
       "      <td>0.000</td>\n",
       "      <td>0.009</td>\n",
       "      <td>0.000</td>\n",
       "      <td>0.0</td>\n",
       "      <td>0.000</td>\n",
       "      <td>64.0</td>\n",
       "      <td>0.6</td>\n",
       "      <td>0.0</td>\n",
       "      <td>...</td>\n",
       "      <td>102.0</td>\n",
       "      <td>122.0</td>\n",
       "      <td>1.0</td>\n",
       "      <td>0.0</td>\n",
       "      <td>111.0</td>\n",
       "      <td>111.0</td>\n",
       "      <td>112.0</td>\n",
       "      <td>0.0</td>\n",
       "      <td>0.0</td>\n",
       "      <td>1.0</td>\n",
       "    </tr>\n",
       "    <tr>\n",
       "      <th>1648</th>\n",
       "      <td>132.0</td>\n",
       "      <td>0.008</td>\n",
       "      <td>0.000</td>\n",
       "      <td>0.009</td>\n",
       "      <td>0.012</td>\n",
       "      <td>0.0</td>\n",
       "      <td>0.000</td>\n",
       "      <td>55.0</td>\n",
       "      <td>2.7</td>\n",
       "      <td>0.0</td>\n",
       "      <td>...</td>\n",
       "      <td>60.0</td>\n",
       "      <td>183.0</td>\n",
       "      <td>5.0</td>\n",
       "      <td>0.0</td>\n",
       "      <td>144.0</td>\n",
       "      <td>118.0</td>\n",
       "      <td>142.0</td>\n",
       "      <td>100.0</td>\n",
       "      <td>1.0</td>\n",
       "      <td>1.0</td>\n",
       "    </tr>\n",
       "    <tr>\n",
       "      <th>1150</th>\n",
       "      <td>122.0</td>\n",
       "      <td>0.008</td>\n",
       "      <td>0.000</td>\n",
       "      <td>0.000</td>\n",
       "      <td>0.002</td>\n",
       "      <td>0.0</td>\n",
       "      <td>0.000</td>\n",
       "      <td>24.0</td>\n",
       "      <td>1.6</td>\n",
       "      <td>0.0</td>\n",
       "      <td>...</td>\n",
       "      <td>79.0</td>\n",
       "      <td>157.0</td>\n",
       "      <td>3.0</td>\n",
       "      <td>0.0</td>\n",
       "      <td>136.0</td>\n",
       "      <td>127.0</td>\n",
       "      <td>131.0</td>\n",
       "      <td>21.0</td>\n",
       "      <td>1.0</td>\n",
       "      <td>1.0</td>\n",
       "    </tr>\n",
       "    <tr>\n",
       "      <th>14</th>\n",
       "      <td>130.0</td>\n",
       "      <td>0.006</td>\n",
       "      <td>0.408</td>\n",
       "      <td>0.004</td>\n",
       "      <td>0.005</td>\n",
       "      <td>0.0</td>\n",
       "      <td>0.001</td>\n",
       "      <td>21.0</td>\n",
       "      <td>2.3</td>\n",
       "      <td>0.0</td>\n",
       "      <td>...</td>\n",
       "      <td>67.0</td>\n",
       "      <td>174.0</td>\n",
       "      <td>7.0</td>\n",
       "      <td>0.0</td>\n",
       "      <td>143.0</td>\n",
       "      <td>125.0</td>\n",
       "      <td>135.0</td>\n",
       "      <td>76.0</td>\n",
       "      <td>0.0</td>\n",
       "      <td>1.0</td>\n",
       "    </tr>\n",
       "  </tbody>\n",
       "</table>\n",
       "<p>5 rows × 22 columns</p>\n",
       "</div>"
      ],
      "text/plain": [
       "      baseline value  accelerations  fetal_movement  uterine_contractions  \\\n",
       "1396           142.0          0.001           0.000                 0.007   \n",
       "1664           106.0          0.000           0.000                 0.009   \n",
       "1648           132.0          0.008           0.000                 0.009   \n",
       "1150           122.0          0.008           0.000                 0.000   \n",
       "14             130.0          0.006           0.408                 0.004   \n",
       "\n",
       "      light_decelerations  severe_decelerations  prolongued_decelerations  \\\n",
       "1396                0.004                   0.0                     0.000   \n",
       "1664                0.000                   0.0                     0.000   \n",
       "1648                0.012                   0.0                     0.000   \n",
       "1150                0.002                   0.0                     0.000   \n",
       "14                  0.005                   0.0                     0.001   \n",
       "\n",
       "      abnormal_short_term_variability  mean_value_of_short_term_variability  \\\n",
       "1396                             49.0                                   0.9   \n",
       "1664                             64.0                                   0.6   \n",
       "1648                             55.0                                   2.7   \n",
       "1150                             24.0                                   1.6   \n",
       "14                               21.0                                   2.3   \n",
       "\n",
       "      percentage_of_time_with_abnormal_long_term_variability  ...  \\\n",
       "1396                                               28.0       ...   \n",
       "1664                                                0.0       ...   \n",
       "1648                                                0.0       ...   \n",
       "1150                                                0.0       ...   \n",
       "14                                                  0.0       ...   \n",
       "\n",
       "      histogram_min  histogram_max  histogram_number_of_peaks  \\\n",
       "1396           68.0          182.0                        2.0   \n",
       "1664          102.0          122.0                        1.0   \n",
       "1648           60.0          183.0                        5.0   \n",
       "1150           79.0          157.0                        3.0   \n",
       "14             67.0          174.0                        7.0   \n",
       "\n",
       "      histogram_number_of_zeroes  histogram_mode  histogram_mean  \\\n",
       "1396                         0.0           153.0           146.0   \n",
       "1664                         0.0           111.0           111.0   \n",
       "1648                         0.0           144.0           118.0   \n",
       "1150                         0.0           136.0           127.0   \n",
       "14                           0.0           143.0           125.0   \n",
       "\n",
       "      histogram_median  histogram_variance  histogram_tendency  fetal_health  \n",
       "1396             154.0                37.0                 1.0           1.0  \n",
       "1664             112.0                 0.0                 0.0           1.0  \n",
       "1648             142.0               100.0                 1.0           1.0  \n",
       "1150             131.0                21.0                 1.0           1.0  \n",
       "14               135.0                76.0                 0.0           1.0  \n",
       "\n",
       "[5 rows x 22 columns]"
      ]
     },
     "execution_count": 2,
     "metadata": {},
     "output_type": "execute_result"
    }
   ],
   "source": [
    "data = pd.read_csv('../../data_sets/fetal_health.csv')\n",
    "data.sample(5)"
   ]
  },
  {
   "cell_type": "code",
   "execution_count": 4,
   "metadata": {},
   "outputs": [
    {
     "data": {
      "text/plain": [
       "baseline value                                            0\n",
       "accelerations                                             0\n",
       "fetal_movement                                            0\n",
       "uterine_contractions                                      0\n",
       "light_decelerations                                       0\n",
       "severe_decelerations                                      0\n",
       "prolongued_decelerations                                  0\n",
       "abnormal_short_term_variability                           0\n",
       "mean_value_of_short_term_variability                      0\n",
       "percentage_of_time_with_abnormal_long_term_variability    0\n",
       "mean_value_of_long_term_variability                       0\n",
       "histogram_width                                           0\n",
       "histogram_min                                             0\n",
       "histogram_max                                             0\n",
       "histogram_number_of_peaks                                 0\n",
       "histogram_number_of_zeroes                                0\n",
       "histogram_mode                                            0\n",
       "histogram_mean                                            0\n",
       "histogram_median                                          0\n",
       "histogram_variance                                        0\n",
       "histogram_tendency                                        0\n",
       "fetal_health                                              0\n",
       "dtype: int64"
      ]
     },
     "execution_count": 4,
     "metadata": {},
     "output_type": "execute_result"
    }
   ],
   "source": [
    "data.isnull().sum()"
   ]
  },
  {
   "cell_type": "code",
   "execution_count": null,
   "metadata": {},
   "outputs": [],
   "source": [
    "data.info()"
   ]
  },
  {
   "cell_type": "code",
   "execution_count": 6,
   "metadata": {},
   "outputs": [],
   "source": [
    "X = data.copy()\n",
    "X.drop('fetal_health', axis=1, inplace=True)\n",
    "y = data['fetal_health'].copy()"
   ]
  },
  {
   "cell_type": "code",
   "execution_count": 8,
   "metadata": {},
   "outputs": [],
   "source": [
    "x_train,x_test, y_train, y_test = ms.train_test_split(X, y, stratify=y, random_state=42)\n",
    "x_train,x_validation, y_train, y_validation = ms.train_test_split(x_train,y_train,stratify=y_train, random_state=42)"
   ]
  },
  {
   "cell_type": "code",
   "execution_count": 9,
   "metadata": {},
   "outputs": [
    {
     "data": {
      "text/plain": [
       "(1195, 21)"
      ]
     },
     "execution_count": 9,
     "metadata": {},
     "output_type": "execute_result"
    }
   ],
   "source": [
    "x_train.shape"
   ]
  },
  {
   "cell_type": "code",
   "execution_count": 10,
   "metadata": {},
   "outputs": [
    {
     "name": "stdout",
     "output_type": "stream",
     "text": [
      "Model: \"sequential\"\n",
      "_________________________________________________________________\n",
      " Layer (type)                Output Shape              Param #   \n",
      "=================================================================\n",
      " dense (Dense)               (None, 250)               5500      \n",
      "                                                                 \n",
      " dense_1 (Dense)             (None, 125)               31375     \n",
      "                                                                 \n",
      " output (Dense)              (None, 4)                 504       \n",
      "                                                                 \n",
      "=================================================================\n",
      "Total params: 37,379\n",
      "Trainable params: 37,379\n",
      "Non-trainable params: 0\n",
      "_________________________________________________________________\n"
     ]
    },
    {
     "name": "stderr",
     "output_type": "stream",
     "text": [
      "2022-04-02 14:02:17.908001: I tensorflow/core/platform/cpu_feature_guard.cc:151] This TensorFlow binary is optimized with oneAPI Deep Neural Network Library (oneDNN) to use the following CPU instructions in performance-critical operations:  AVX2 FMA\n",
      "To enable them in other operations, rebuild TensorFlow with the appropriate compiler flags.\n"
     ]
    }
   ],
   "source": [
    "#building the neural network model \n",
    "model = keras.models.Sequential([keras.layers.Input(shape=x_train.shape[1], name='input'), keras.layers.Dense(250, activation = 'relu'), keras.layers.Dense(125,activation = 'relu'), keras.layers.Dense(4, activation = 'softmax', name = 'output')])\n",
    "model.compile(loss = 'sparse_categorical_crossentropy', optimizer = 'sgd', metrics = ['accuracy'])\n",
    "\n",
    "model.summary()"
   ]
  },
  {
   "cell_type": "code",
   "execution_count": 11,
   "metadata": {},
   "outputs": [
    {
     "name": "stdout",
     "output_type": "stream",
     "text": [
      "Epoch 1/30\n",
      "38/38 [==============================] - 1s 5ms/step - loss: 57.5847 - accuracy: 0.6711 - val_loss: 1.0886 - val_accuracy: 0.7820\n",
      "Epoch 2/30\n",
      "38/38 [==============================] - 0s 2ms/step - loss: 0.9575 - accuracy: 0.7782 - val_loss: 0.8642 - val_accuracy: 0.7870\n",
      "Epoch 3/30\n",
      "38/38 [==============================] - 0s 2ms/step - loss: 0.8356 - accuracy: 0.7824 - val_loss: 0.8037 - val_accuracy: 0.7895\n",
      "Epoch 4/30\n",
      "38/38 [==============================] - 0s 2ms/step - loss: 0.8541 - accuracy: 0.7674 - val_loss: 0.7747 - val_accuracy: 0.7845\n",
      "Epoch 5/30\n",
      "38/38 [==============================] - 0s 2ms/step - loss: 0.7875 - accuracy: 0.7791 - val_loss: 0.7315 - val_accuracy: 0.7845\n",
      "Epoch 6/30\n",
      "38/38 [==============================] - 0s 2ms/step - loss: 0.7604 - accuracy: 0.7833 - val_loss: 0.7001 - val_accuracy: 0.7970\n",
      "Epoch 7/30\n",
      "38/38 [==============================] - 0s 2ms/step - loss: 0.7441 - accuracy: 0.7858 - val_loss: 0.7100 - val_accuracy: 0.7945\n",
      "Epoch 8/30\n",
      "38/38 [==============================] - 0s 2ms/step - loss: 0.7272 - accuracy: 0.7891 - val_loss: 0.6908 - val_accuracy: 0.7970\n",
      "Epoch 9/30\n",
      "38/38 [==============================] - 0s 1ms/step - loss: 0.7177 - accuracy: 0.7883 - val_loss: 0.6779 - val_accuracy: 0.7970\n",
      "Epoch 10/30\n",
      "38/38 [==============================] - 0s 2ms/step - loss: 0.7129 - accuracy: 0.7891 - val_loss: 0.6721 - val_accuracy: 0.7995\n",
      "Epoch 11/30\n",
      "38/38 [==============================] - 0s 2ms/step - loss: 0.7006 - accuracy: 0.7874 - val_loss: 0.6844 - val_accuracy: 0.7920\n",
      "Epoch 12/30\n",
      "38/38 [==============================] - 0s 1ms/step - loss: 0.6960 - accuracy: 0.7900 - val_loss: 0.6583 - val_accuracy: 0.7920\n",
      "Epoch 13/30\n",
      "38/38 [==============================] - 0s 1ms/step - loss: 0.6886 - accuracy: 0.7891 - val_loss: 0.6594 - val_accuracy: 0.7995\n",
      "Epoch 14/30\n",
      "38/38 [==============================] - 0s 1ms/step - loss: 0.6836 - accuracy: 0.7925 - val_loss: 0.6626 - val_accuracy: 0.7995\n",
      "Epoch 15/30\n",
      "38/38 [==============================] - 0s 1ms/step - loss: 0.6888 - accuracy: 0.7883 - val_loss: 0.6249 - val_accuracy: 0.8045\n",
      "Epoch 16/30\n",
      "38/38 [==============================] - 0s 2ms/step - loss: 0.6651 - accuracy: 0.7950 - val_loss: 0.6152 - val_accuracy: 0.8070\n",
      "Epoch 17/30\n",
      "38/38 [==============================] - 0s 2ms/step - loss: 0.6606 - accuracy: 0.7975 - val_loss: 0.5954 - val_accuracy: 0.8195\n",
      "Epoch 18/30\n",
      "38/38 [==============================] - 0s 2ms/step - loss: 0.6648 - accuracy: 0.7891 - val_loss: 0.6028 - val_accuracy: 0.8045\n",
      "Epoch 19/30\n",
      "38/38 [==============================] - 0s 2ms/step - loss: 0.6576 - accuracy: 0.7967 - val_loss: 0.6038 - val_accuracy: 0.8145\n",
      "Epoch 20/30\n",
      "38/38 [==============================] - 0s 2ms/step - loss: 0.6534 - accuracy: 0.7874 - val_loss: 0.5854 - val_accuracy: 0.8221\n",
      "Epoch 21/30\n",
      "38/38 [==============================] - 0s 2ms/step - loss: 0.6401 - accuracy: 0.7967 - val_loss: 0.5833 - val_accuracy: 0.8095\n",
      "Epoch 22/30\n",
      "38/38 [==============================] - 0s 2ms/step - loss: 0.6478 - accuracy: 0.7941 - val_loss: 0.5775 - val_accuracy: 0.8095\n",
      "Epoch 23/30\n",
      "38/38 [==============================] - 0s 2ms/step - loss: 0.6450 - accuracy: 0.7967 - val_loss: 0.5719 - val_accuracy: 0.8145\n",
      "Epoch 24/30\n",
      "38/38 [==============================] - 0s 2ms/step - loss: 0.6365 - accuracy: 0.7975 - val_loss: 0.5867 - val_accuracy: 0.8195\n",
      "Epoch 25/30\n",
      "38/38 [==============================] - 0s 2ms/step - loss: 0.6362 - accuracy: 0.7916 - val_loss: 0.5793 - val_accuracy: 0.8095\n",
      "Epoch 26/30\n",
      "38/38 [==============================] - 0s 2ms/step - loss: 0.6278 - accuracy: 0.8008 - val_loss: 0.5600 - val_accuracy: 0.8321\n",
      "Epoch 27/30\n",
      "38/38 [==============================] - 0s 2ms/step - loss: 0.6174 - accuracy: 0.8025 - val_loss: 0.5760 - val_accuracy: 0.8095\n",
      "Epoch 28/30\n",
      "38/38 [==============================] - 0s 2ms/step - loss: 0.6541 - accuracy: 0.7916 - val_loss: 0.5555 - val_accuracy: 0.8321\n",
      "Epoch 29/30\n",
      "38/38 [==============================] - 0s 2ms/step - loss: 0.6133 - accuracy: 0.8017 - val_loss: 0.5878 - val_accuracy: 0.8195\n",
      "Epoch 30/30\n",
      "38/38 [==============================] - 0s 1ms/step - loss: 0.6177 - accuracy: 0.7958 - val_loss: 0.5560 - val_accuracy: 0.8246\n"
     ]
    }
   ],
   "source": [
    "history = model.fit(x_train, y_train, epochs=30, validation_data=(x_validation, y_validation))"
   ]
  },
  {
   "cell_type": "code",
   "execution_count": 12,
   "metadata": {},
   "outputs": [
    {
     "data": {
      "text/html": [
       "<div>\n",
       "<style scoped>\n",
       "    .dataframe tbody tr th:only-of-type {\n",
       "        vertical-align: middle;\n",
       "    }\n",
       "\n",
       "    .dataframe tbody tr th {\n",
       "        vertical-align: top;\n",
       "    }\n",
       "\n",
       "    .dataframe thead th {\n",
       "        text-align: right;\n",
       "    }\n",
       "</style>\n",
       "<table border=\"1\" class=\"dataframe\">\n",
       "  <thead>\n",
       "    <tr style=\"text-align: right;\">\n",
       "      <th></th>\n",
       "      <th>loss</th>\n",
       "      <th>accuracy</th>\n",
       "      <th>val_loss</th>\n",
       "      <th>val_accuracy</th>\n",
       "    </tr>\n",
       "  </thead>\n",
       "  <tbody>\n",
       "    <tr>\n",
       "      <th>12</th>\n",
       "      <td>0.688641</td>\n",
       "      <td>0.789121</td>\n",
       "      <td>0.659409</td>\n",
       "      <td>0.799499</td>\n",
       "    </tr>\n",
       "  </tbody>\n",
       "</table>\n",
       "</div>"
      ],
      "text/plain": [
       "        loss  accuracy  val_loss  val_accuracy\n",
       "12  0.688641  0.789121  0.659409      0.799499"
      ]
     },
     "execution_count": 12,
     "metadata": {},
     "output_type": "execute_result"
    }
   ],
   "source": [
    "metrics_df = pd.DataFrame(history.history)\n",
    "metrics_df.sample()"
   ]
  },
  {
   "cell_type": "code",
   "execution_count": 14,
   "metadata": {},
   "outputs": [
    {
     "name": "stdout",
     "output_type": "stream",
     "text": [
      "Avg Training Accuracy: 78.7\n",
      "Avg Validation Accuracy: 80.5\n"
     ]
    }
   ],
   "source": [
    "\n",
    "print(f'Avg Training Accuracy: {round(metrics_df.accuracy.mean() * 100, 1)}')\n",
    "print(f'Avg Validation Accuracy: {round(metrics_df.val_accuracy.mean() * 100, 1)}')"
   ]
  },
  {
   "cell_type": "code",
   "execution_count": 15,
   "metadata": {},
   "outputs": [
    {
     "data": {
      "text/plain": [
       "(0.0, 1.0)"
      ]
     },
     "execution_count": 15,
     "metadata": {},
     "output_type": "execute_result"
    },
    {
     "data": {
      "image/png": "[encoded data removed]",
      "text/plain": [
       "<Figure size 432x288 with 1 Axes>"
      ]
     },
     "metadata": {
      "needs_background": "light"
     },
     "output_type": "display_data"
    }
   ],
   "source": [
    "metrics_df.plot()\n",
    "plt.ylim((0,1))"
   ]
  },
  {
   "cell_type": "code",
   "execution_count": 7,
   "metadata": {},
   "outputs": [],
   "source": [
    "def compile_model():\n",
    "    #clear_session()\n",
    "    \n",
    "    model = Sequential()\n",
    "    \n",
    "    model.add(Dense(20,input_shape=(20,), activation='relu'))\n",
    "    model.add(Dense(20,activation = 'relu'))\n",
    "    model.add(Dense(20, activation = 'relu'))\n",
    "    model.add(Dense(20, activation = 'relu'))\n",
    "    model.add(Dense(3, activation = 'sigmoid'))\n",
    "    model.compile(optimizer='adam', loss = 'categorical_crossentropy', metrics= [AUC(multi_label=True)])\n",
    "    return model "
   ]
  },
  {
   "cell_type": "code",
   "execution_count": 8,
   "metadata": {},
   "outputs": [
    {
     "ename": "NameError",
     "evalue": "name 'Sequential' is not defined",
     "output_type": "error",
     "traceback": [
      "\u001b[0;31m---------------------------------------------------------------------------\u001b[0m",
      "\u001b[0;31mNameError\u001b[0m                                 Traceback (most recent call last)",
      "Input \u001b[0;32mIn [8]\u001b[0m, in \u001b[0;36m<cell line: 1>\u001b[0;34m()\u001b[0m\n\u001b[0;32m----> 1\u001b[0m model \u001b[38;5;241m=\u001b[39m \u001b[43mcompile_model\u001b[49m\u001b[43m(\u001b[49m\u001b[43m)\u001b[49m\n\u001b[1;32m      2\u001b[0m the_model \u001b[38;5;241m=\u001b[39m model\u001b[38;5;241m.\u001b[39mfit(x_train,y_train, validation_data\u001b[38;5;241m=\u001b[39m(x_test, y_test), epochs\u001b[38;5;241m=\u001b[39m\u001b[38;5;241m100\u001b[39m, verbose\u001b[38;5;241m=\u001b[39m\u001b[38;5;241m0\u001b[39m)\n\u001b[1;32m      3\u001b[0m y_pred0 \u001b[38;5;241m=\u001b[39m model\u001b[38;5;241m.\u001b[39mpredict(x_test)\n",
      "Input \u001b[0;32mIn [7]\u001b[0m, in \u001b[0;36mcompile_model\u001b[0;34m()\u001b[0m\n\u001b[1;32m      1\u001b[0m \u001b[38;5;28;01mdef\u001b[39;00m \u001b[38;5;21mcompile_model\u001b[39m():\n\u001b[1;32m      2\u001b[0m     \u001b[38;5;66;03m#clear_session()\u001b[39;00m\n\u001b[0;32m----> 4\u001b[0m     model \u001b[38;5;241m=\u001b[39m \u001b[43mSequential\u001b[49m()\n\u001b[1;32m      6\u001b[0m     model\u001b[38;5;241m.\u001b[39madd(Dense(\u001b[38;5;241m20\u001b[39m,input_shape\u001b[38;5;241m=\u001b[39m(\u001b[38;5;241m20\u001b[39m,), activation\u001b[38;5;241m=\u001b[39m\u001b[38;5;124m'\u001b[39m\u001b[38;5;124mrelu\u001b[39m\u001b[38;5;124m'\u001b[39m))\n\u001b[1;32m      7\u001b[0m     model\u001b[38;5;241m.\u001b[39madd(Dense(\u001b[38;5;241m20\u001b[39m,activation \u001b[38;5;241m=\u001b[39m \u001b[38;5;124m'\u001b[39m\u001b[38;5;124mrelu\u001b[39m\u001b[38;5;124m'\u001b[39m))\n",
      "\u001b[0;31mNameError\u001b[0m: name 'Sequential' is not defined"
     ]
    }
   ],
   "source": [
    "model = compile_model()\n",
    "the_model = model.fit(x_train,y_train, validation_data=(x_test, y_test), epochs=100, verbose=0)\n",
    "y_pred0 = model.predict(x_test)\n",
    "\n",
    "\n",
    "def print_confusion_matrix(model,x_train,y_train,y_test,y_pred):\n",
    "    train_confusion = confusion_matrix(np.argmax(y_train,axis=1), np.argmax(model.predict(x_train),axis=1))\n",
    "    test_confusion = confusion_matrix(np.argmax(y_test,axis=1), np.argmax(y_pred,axis=1))\n",
    "    \n",
    "    fig,aax = plt.subplots(1,2,figsize=(12,5))\n",
    "    \n",
    "    sns.heatmap(train_confusion/np.sum(train_confusion), ax=ax[0], annot= True, fmt='0.2%', cmap='Reds')\n",
    "    ax[0].set_title('Confusion Matrix (Test Set)')\n",
    "    ax[0].set_xlabel('Predicted Labels')\n",
    "    ax[0].set_ylabel('Actual Labels')\n",
    "    \n",
    "print_confusion_matrix(model, x_train,y_train,y_test,y_pred0)"
   ]
  },
  {
   "cell_type": "code",
   "execution_count": null,
   "metadata": {},
   "outputs": [],
   "source": []
  }
 ],
 "metadata": {
  "interpreter": {
   "hash": "40d3a090f54c6569ab1632332b64b2c03c39dcf918b08424e98f38b5ae0af88f"
  },
  "kernelspec": {
   "display_name": "Python 3 (ipykernel)",
   "language": "python",
   "name": "python3"
  },
  "language_info": {
   "codemirror_mode": {
    "name": "ipython",
    "version": 3
   },
   "file_extension": ".py",
   "mimetype": "text/x-python",
   "name": "python",
   "nbconvert_exporter": "python",
   "pygments_lexer": "ipython3",
   "version": "3.8.5"
  }
 },
 "nbformat": 4,
 "nbformat_minor": 2
}
