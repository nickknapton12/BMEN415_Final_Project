{
 "cells": [
  {
   "cell_type": "markdown",
   "id": "01406365",
   "metadata": {},
   "source": [
    "# Table of Contents\n",
    "1. Introduction\n",
    "2. Import\n",
    "3. Analysis & Preprocessing\n",
    "4. Model\n",
    "5. Training\n",
    "6. Analysis & Conclusion"
   ]
  },
  {
   "cell_type": "markdown",
   "id": "aa4445f3",
   "metadata": {},
   "source": [
    "# 1. Introduction\n",
    "References:\n",
    "- https://machinelearningmastery.com/tutorial-first-neural-network-python-keras/\n",
    "- https://www.analyticsvidhya.com/blog/2021/10/implementing-artificial-neural-networkclassification-in-python-from-scratch/"
   ]
  },
  {
   "cell_type": "markdown",
   "id": "a3b2e40c",
   "metadata": {},
   "source": [
    "# 2. Import"
   ]
  },
  {
   "cell_type": "code",
   "execution_count": 1,
   "id": "026e420b",
   "metadata": {},
   "outputs": [],
   "source": [
    "# Importing Libraries\n",
    "import pandas as pd \n",
    "import numpy as np\n",
    "import matplotlib.pyplot as plt\n",
    "import seaborn as sb\n",
    "import tensorflow as tf\n",
    "from sklearn.model_selection import train_test_split\n",
    "from tensorflow.keras import utils, callbacks\n",
    "from tensorflow.keras.optimizers import Adam\n",
    "import matplotlib.axes as ax\n",
    "from keras.layers import Dense, Activation, BatchNormalization"
   ]
  },
  {
   "cell_type": "markdown",
   "id": "b0ae3ccc",
   "metadata": {},
   "source": [
    "# 3. Analysis & Preprocessing"
   ]
  },
  {
   "cell_type": "code",
   "execution_count": 2,
   "id": "a14bd5d8",
   "metadata": {},
   "outputs": [
    {
     "data": {
      "text/html": [
       "<div>\n",
       "<style scoped>\n",
       "    .dataframe tbody tr th:only-of-type {\n",
       "        vertical-align: middle;\n",
       "    }\n",
       "\n",
       "    .dataframe tbody tr th {\n",
       "        vertical-align: top;\n",
       "    }\n",
       "\n",
       "    .dataframe thead th {\n",
       "        text-align: right;\n",
       "    }\n",
       "</style>\n",
       "<table border=\"1\" class=\"dataframe\">\n",
       "  <thead>\n",
       "    <tr style=\"text-align: right;\">\n",
       "      <th></th>\n",
       "      <th>baseline value</th>\n",
       "      <th>accelerations</th>\n",
       "      <th>fetal_movement</th>\n",
       "      <th>uterine_contractions</th>\n",
       "      <th>light_decelerations</th>\n",
       "      <th>severe_decelerations</th>\n",
       "      <th>prolongued_decelerations</th>\n",
       "      <th>abnormal_short_term_variability</th>\n",
       "      <th>mean_value_of_short_term_variability</th>\n",
       "      <th>percentage_of_time_with_abnormal_long_term_variability</th>\n",
       "      <th>...</th>\n",
       "      <th>histogram_min</th>\n",
       "      <th>histogram_max</th>\n",
       "      <th>histogram_number_of_peaks</th>\n",
       "      <th>histogram_number_of_zeroes</th>\n",
       "      <th>histogram_mode</th>\n",
       "      <th>histogram_mean</th>\n",
       "      <th>histogram_median</th>\n",
       "      <th>histogram_variance</th>\n",
       "      <th>histogram_tendency</th>\n",
       "      <th>fetal_health</th>\n",
       "    </tr>\n",
       "  </thead>\n",
       "  <tbody>\n",
       "    <tr>\n",
       "      <th>count</th>\n",
       "      <td>2126.000000</td>\n",
       "      <td>2126.000000</td>\n",
       "      <td>2126.000000</td>\n",
       "      <td>2126.000000</td>\n",
       "      <td>2126.000000</td>\n",
       "      <td>2126.000000</td>\n",
       "      <td>2126.000000</td>\n",
       "      <td>2126.000000</td>\n",
       "      <td>2126.000000</td>\n",
       "      <td>2126.00000</td>\n",
       "      <td>...</td>\n",
       "      <td>2126.000000</td>\n",
       "      <td>2126.000000</td>\n",
       "      <td>2126.000000</td>\n",
       "      <td>2126.000000</td>\n",
       "      <td>2126.000000</td>\n",
       "      <td>2126.000000</td>\n",
       "      <td>2126.000000</td>\n",
       "      <td>2126.000000</td>\n",
       "      <td>2126.000000</td>\n",
       "      <td>2126.000000</td>\n",
       "    </tr>\n",
       "    <tr>\n",
       "      <th>mean</th>\n",
       "      <td>133.303857</td>\n",
       "      <td>0.003178</td>\n",
       "      <td>0.009481</td>\n",
       "      <td>0.004366</td>\n",
       "      <td>0.001889</td>\n",
       "      <td>0.000003</td>\n",
       "      <td>0.000159</td>\n",
       "      <td>46.990122</td>\n",
       "      <td>1.332785</td>\n",
       "      <td>9.84666</td>\n",
       "      <td>...</td>\n",
       "      <td>93.579492</td>\n",
       "      <td>164.025400</td>\n",
       "      <td>4.068203</td>\n",
       "      <td>0.323612</td>\n",
       "      <td>137.452023</td>\n",
       "      <td>134.610536</td>\n",
       "      <td>138.090310</td>\n",
       "      <td>18.808090</td>\n",
       "      <td>0.320320</td>\n",
       "      <td>1.304327</td>\n",
       "    </tr>\n",
       "    <tr>\n",
       "      <th>std</th>\n",
       "      <td>9.840844</td>\n",
       "      <td>0.003866</td>\n",
       "      <td>0.046666</td>\n",
       "      <td>0.002946</td>\n",
       "      <td>0.002960</td>\n",
       "      <td>0.000057</td>\n",
       "      <td>0.000590</td>\n",
       "      <td>17.192814</td>\n",
       "      <td>0.883241</td>\n",
       "      <td>18.39688</td>\n",
       "      <td>...</td>\n",
       "      <td>29.560212</td>\n",
       "      <td>17.944183</td>\n",
       "      <td>2.949386</td>\n",
       "      <td>0.706059</td>\n",
       "      <td>16.381289</td>\n",
       "      <td>15.593596</td>\n",
       "      <td>14.466589</td>\n",
       "      <td>28.977636</td>\n",
       "      <td>0.610829</td>\n",
       "      <td>0.614377</td>\n",
       "    </tr>\n",
       "    <tr>\n",
       "      <th>min</th>\n",
       "      <td>106.000000</td>\n",
       "      <td>0.000000</td>\n",
       "      <td>0.000000</td>\n",
       "      <td>0.000000</td>\n",
       "      <td>0.000000</td>\n",
       "      <td>0.000000</td>\n",
       "      <td>0.000000</td>\n",
       "      <td>12.000000</td>\n",
       "      <td>0.200000</td>\n",
       "      <td>0.00000</td>\n",
       "      <td>...</td>\n",
       "      <td>50.000000</td>\n",
       "      <td>122.000000</td>\n",
       "      <td>0.000000</td>\n",
       "      <td>0.000000</td>\n",
       "      <td>60.000000</td>\n",
       "      <td>73.000000</td>\n",
       "      <td>77.000000</td>\n",
       "      <td>0.000000</td>\n",
       "      <td>-1.000000</td>\n",
       "      <td>1.000000</td>\n",
       "    </tr>\n",
       "    <tr>\n",
       "      <th>25%</th>\n",
       "      <td>126.000000</td>\n",
       "      <td>0.000000</td>\n",
       "      <td>0.000000</td>\n",
       "      <td>0.002000</td>\n",
       "      <td>0.000000</td>\n",
       "      <td>0.000000</td>\n",
       "      <td>0.000000</td>\n",
       "      <td>32.000000</td>\n",
       "      <td>0.700000</td>\n",
       "      <td>0.00000</td>\n",
       "      <td>...</td>\n",
       "      <td>67.000000</td>\n",
       "      <td>152.000000</td>\n",
       "      <td>2.000000</td>\n",
       "      <td>0.000000</td>\n",
       "      <td>129.000000</td>\n",
       "      <td>125.000000</td>\n",
       "      <td>129.000000</td>\n",
       "      <td>2.000000</td>\n",
       "      <td>0.000000</td>\n",
       "      <td>1.000000</td>\n",
       "    </tr>\n",
       "    <tr>\n",
       "      <th>50%</th>\n",
       "      <td>133.000000</td>\n",
       "      <td>0.002000</td>\n",
       "      <td>0.000000</td>\n",
       "      <td>0.004000</td>\n",
       "      <td>0.000000</td>\n",
       "      <td>0.000000</td>\n",
       "      <td>0.000000</td>\n",
       "      <td>49.000000</td>\n",
       "      <td>1.200000</td>\n",
       "      <td>0.00000</td>\n",
       "      <td>...</td>\n",
       "      <td>93.000000</td>\n",
       "      <td>162.000000</td>\n",
       "      <td>3.000000</td>\n",
       "      <td>0.000000</td>\n",
       "      <td>139.000000</td>\n",
       "      <td>136.000000</td>\n",
       "      <td>139.000000</td>\n",
       "      <td>7.000000</td>\n",
       "      <td>0.000000</td>\n",
       "      <td>1.000000</td>\n",
       "    </tr>\n",
       "    <tr>\n",
       "      <th>75%</th>\n",
       "      <td>140.000000</td>\n",
       "      <td>0.006000</td>\n",
       "      <td>0.003000</td>\n",
       "      <td>0.007000</td>\n",
       "      <td>0.003000</td>\n",
       "      <td>0.000000</td>\n",
       "      <td>0.000000</td>\n",
       "      <td>61.000000</td>\n",
       "      <td>1.700000</td>\n",
       "      <td>11.00000</td>\n",
       "      <td>...</td>\n",
       "      <td>120.000000</td>\n",
       "      <td>174.000000</td>\n",
       "      <td>6.000000</td>\n",
       "      <td>0.000000</td>\n",
       "      <td>148.000000</td>\n",
       "      <td>145.000000</td>\n",
       "      <td>148.000000</td>\n",
       "      <td>24.000000</td>\n",
       "      <td>1.000000</td>\n",
       "      <td>1.000000</td>\n",
       "    </tr>\n",
       "    <tr>\n",
       "      <th>max</th>\n",
       "      <td>160.000000</td>\n",
       "      <td>0.019000</td>\n",
       "      <td>0.481000</td>\n",
       "      <td>0.015000</td>\n",
       "      <td>0.015000</td>\n",
       "      <td>0.001000</td>\n",
       "      <td>0.005000</td>\n",
       "      <td>87.000000</td>\n",
       "      <td>7.000000</td>\n",
       "      <td>91.00000</td>\n",
       "      <td>...</td>\n",
       "      <td>159.000000</td>\n",
       "      <td>238.000000</td>\n",
       "      <td>18.000000</td>\n",
       "      <td>10.000000</td>\n",
       "      <td>187.000000</td>\n",
       "      <td>182.000000</td>\n",
       "      <td>186.000000</td>\n",
       "      <td>269.000000</td>\n",
       "      <td>1.000000</td>\n",
       "      <td>3.000000</td>\n",
       "    </tr>\n",
       "  </tbody>\n",
       "</table>\n",
       "<p>8 rows × 22 columns</p>\n",
       "</div>"
      ],
      "text/plain": [
       "       baseline value  accelerations  fetal_movement  uterine_contractions  \\\n",
       "count     2126.000000    2126.000000     2126.000000           2126.000000   \n",
       "mean       133.303857       0.003178        0.009481              0.004366   \n",
       "std          9.840844       0.003866        0.046666              0.002946   \n",
       "min        106.000000       0.000000        0.000000              0.000000   \n",
       "25%        126.000000       0.000000        0.000000              0.002000   \n",
       "50%        133.000000       0.002000        0.000000              0.004000   \n",
       "75%        140.000000       0.006000        0.003000              0.007000   \n",
       "max        160.000000       0.019000        0.481000              0.015000   \n",
       "\n",
       "       light_decelerations  severe_decelerations  prolongued_decelerations  \\\n",
       "count          2126.000000           2126.000000               2126.000000   \n",
       "mean              0.001889              0.000003                  0.000159   \n",
       "std               0.002960              0.000057                  0.000590   \n",
       "min               0.000000              0.000000                  0.000000   \n",
       "25%               0.000000              0.000000                  0.000000   \n",
       "50%               0.000000              0.000000                  0.000000   \n",
       "75%               0.003000              0.000000                  0.000000   \n",
       "max               0.015000              0.001000                  0.005000   \n",
       "\n",
       "       abnormal_short_term_variability  mean_value_of_short_term_variability  \\\n",
       "count                      2126.000000                           2126.000000   \n",
       "mean                         46.990122                              1.332785   \n",
       "std                          17.192814                              0.883241   \n",
       "min                          12.000000                              0.200000   \n",
       "25%                          32.000000                              0.700000   \n",
       "50%                          49.000000                              1.200000   \n",
       "75%                          61.000000                              1.700000   \n",
       "max                          87.000000                              7.000000   \n",
       "\n",
       "       percentage_of_time_with_abnormal_long_term_variability  ...  \\\n",
       "count                                         2126.00000       ...   \n",
       "mean                                             9.84666       ...   \n",
       "std                                             18.39688       ...   \n",
       "min                                              0.00000       ...   \n",
       "25%                                              0.00000       ...   \n",
       "50%                                              0.00000       ...   \n",
       "75%                                             11.00000       ...   \n",
       "max                                             91.00000       ...   \n",
       "\n",
       "       histogram_min  histogram_max  histogram_number_of_peaks  \\\n",
       "count    2126.000000    2126.000000                2126.000000   \n",
       "mean       93.579492     164.025400                   4.068203   \n",
       "std        29.560212      17.944183                   2.949386   \n",
       "min        50.000000     122.000000                   0.000000   \n",
       "25%        67.000000     152.000000                   2.000000   \n",
       "50%        93.000000     162.000000                   3.000000   \n",
       "75%       120.000000     174.000000                   6.000000   \n",
       "max       159.000000     238.000000                  18.000000   \n",
       "\n",
       "       histogram_number_of_zeroes  histogram_mode  histogram_mean  \\\n",
       "count                 2126.000000     2126.000000     2126.000000   \n",
       "mean                     0.323612      137.452023      134.610536   \n",
       "std                      0.706059       16.381289       15.593596   \n",
       "min                      0.000000       60.000000       73.000000   \n",
       "25%                      0.000000      129.000000      125.000000   \n",
       "50%                      0.000000      139.000000      136.000000   \n",
       "75%                      0.000000      148.000000      145.000000   \n",
       "max                     10.000000      187.000000      182.000000   \n",
       "\n",
       "       histogram_median  histogram_variance  histogram_tendency  fetal_health  \n",
       "count       2126.000000         2126.000000         2126.000000   2126.000000  \n",
       "mean         138.090310           18.808090            0.320320      1.304327  \n",
       "std           14.466589           28.977636            0.610829      0.614377  \n",
       "min           77.000000            0.000000           -1.000000      1.000000  \n",
       "25%          129.000000            2.000000            0.000000      1.000000  \n",
       "50%          139.000000            7.000000            0.000000      1.000000  \n",
       "75%          148.000000           24.000000            1.000000      1.000000  \n",
       "max          186.000000          269.000000            1.000000      3.000000  \n",
       "\n",
       "[8 rows x 22 columns]"
      ]
     },
     "execution_count": 2,
     "metadata": {},
     "output_type": "execute_result"
    }
   ],
   "source": [
    "data = pd.read_csv('../../data_sets/fetal_health.csv')\n",
    "data.head(5)\n",
    "data.describe()"
   ]
  },
  {
   "cell_type": "code",
   "execution_count": 3,
   "id": "9f78a104",
   "metadata": {},
   "outputs": [
    {
     "name": "stdout",
     "output_type": "stream",
     "text": [
      "x_train shape is: (1700, 21)\n",
      "y_train shape is: (1700,) \n",
      "\n",
      "x_val shape is: (319, 21)\n",
      "y_val shape is: (319,) \n",
      "\n",
      "x_test shape is: (107, 21)\n",
      "y_test shape is: (107,)\n"
     ]
    }
   ],
   "source": [
    "# Split for validation --> train, val, test = 80/15/5\n",
    "# train to test (val and test) --> include random shuffle\n",
    "x_train, x_validation, y_train, y_validation = train_test_split(data.drop('fetal_health', axis=1), data['fetal_health'], test_size=0.20, random_state=33)\n",
    "\n",
    "# (20% of total dataset -> 75% validation = 15% total, 25% validation = 5% total\n",
    "# val and test --> include random shuffle\n",
    "x_val, x_test, y_val, y_test = train_test_split(x_validation, y_validation, test_size=0.25, random_state=33)\n",
    "\n",
    "print(\"x_train shape is:\",x_train.shape)\n",
    "print(\"y_train shape is:\",y_train.shape, \"\\n\")\n",
    "print(\"x_val shape is:\",x_val.shape)\n",
    "print(\"y_val shape is:\",y_val.shape, \"\\n\")\n",
    "print(\"x_test shape is:\",x_test.shape)\n",
    "print(\"y_test shape is:\",y_test.shape)"
   ]
  },
  {
   "cell_type": "markdown",
   "id": "5910b050",
   "metadata": {},
   "source": [
    "# 4. Model"
   ]
  },
  {
   "cell_type": "code",
   "execution_count": 4,
   "id": "e4eb6c77",
   "metadata": {},
   "outputs": [
    {
     "name": "stdout",
     "output_type": "stream",
     "text": [
      "Metal device set to: Apple M1\n",
      "Model: \"sequential\"\n",
      "_________________________________________________________________\n",
      " Layer (type)                Output Shape              Param #   \n",
      "=================================================================\n",
      " batch_normalization (BatchN  (None, 21)               84        \n",
      " ormalization)                                                   \n",
      "                                                                 \n",
      " dense (Dense)               (None, 64)                1408      \n",
      "                                                                 \n",
      " batch_normalization_1 (Batc  (None, 64)               256       \n",
      " hNormalization)                                                 \n",
      "                                                                 \n",
      " activation (Activation)     (None, 64)                0         \n",
      "                                                                 \n",
      " dense_1 (Dense)             (None, 32)                2080      \n",
      "                                                                 \n",
      " batch_normalization_2 (Batc  (None, 32)               128       \n",
      " hNormalization)                                                 \n",
      "                                                                 \n",
      " activation_1 (Activation)   (None, 32)                0         \n",
      "                                                                 \n",
      " output (Dense)              (None, 3)                 99        \n",
      "                                                                 \n",
      "=================================================================\n",
      "Total params: 4,055\n",
      "Trainable params: 3,821\n",
      "Non-trainable params: 234\n",
      "_________________________________________________________________\n"
     ]
    },
    {
     "name": "stderr",
     "output_type": "stream",
     "text": [
      "2022-04-09 11:03:49.122885: I tensorflow/core/common_runtime/pluggable_device/pluggable_device_factory.cc:305] Could not identify NUMA node of platform GPU ID 0, defaulting to 0. Your kernel may not have been built with NUMA support.\n",
      "2022-04-09 11:03:49.123005: I tensorflow/core/common_runtime/pluggable_device/pluggable_device_factory.cc:271] Created TensorFlow device (/job:localhost/replica:0/task:0/device:GPU:0 with 0 MB memory) -> physical PluggableDevice (device: 0, name: METAL, pci bus id: <undefined>)\n"
     ]
    }
   ],
   "source": [
    "# end with 3 neurons for each class --> 1 (Normal), 2 (Suspect) and 3 (Pathological)\n",
    "model = tf.keras.models.Sequential()\n",
    "model.add(tf.keras.layers.Input(shape=x_train.shape[1], name='input'))\n",
    "model.add(BatchNormalization())\n",
    "model.add(Dense(64))\n",
    "model.add(BatchNormalization())\n",
    "model.add(Activation('relu'))\n",
    "model.add(Dense(32))\n",
    "model.add(BatchNormalization())\n",
    "model.add(Activation('relu'))\n",
    "model.add(Dense(3, activation='softmax', name='output'))\n",
    "\n",
    "model.compile(\n",
    "            loss='sparse_categorical_crossentropy',\n",
    "            optimizer='sgd',\n",
    "            metrics= ['accuracy']\n",
    "            )\n",
    "\n",
    "model.summary()"
   ]
  },
  {
   "cell_type": "markdown",
   "id": "952696e4",
   "metadata": {},
   "source": [
    "# 5. Training"
   ]
  },
  {
   "cell_type": "code",
   "execution_count": 5,
   "id": "09b75eb3",
   "metadata": {},
   "outputs": [],
   "source": [
    "earlystopping = callbacks.EarlyStopping(monitor=\"val_loss\", mode=\"min\", \n",
    "                                        patience=8, restore_best_weights = True)"
   ]
  },
  {
   "cell_type": "code",
   "execution_count": 6,
   "id": "1f4070cb",
   "metadata": {},
   "outputs": [
    {
     "name": "stdout",
     "output_type": "stream",
     "text": [
      "Epoch 1/50\n"
     ]
    },
    {
     "name": "stderr",
     "output_type": "stream",
     "text": [
      "2022-04-09 11:03:49.245715: W tensorflow/core/platform/profile_utils/cpu_utils.cc:128] Failed to get CPU frequency: 0 Hz\n",
      "2022-04-09 11:03:49.407100: I tensorflow/core/grappler/optimizers/custom_graph_optimizer_registry.cc:113] Plugin optimizer for device_type GPU is enabled.\n"
     ]
    },
    {
     "name": "stdout",
     "output_type": "stream",
     "text": [
      "54/54 [==============================] - 1s 13ms/step - loss: 0.9479 - accuracy: 0.4782 - val_loss: 3.4168 - val_accuracy: 0.1254\n",
      "Epoch 2/50\n",
      " 9/54 [====>.........................] - ETA: 0s - loss: 0.5128 - accuracy: 0.7535"
     ]
    },
    {
     "name": "stderr",
     "output_type": "stream",
     "text": [
      "2022-04-09 11:03:50.230759: I tensorflow/core/grappler/optimizers/custom_graph_optimizer_registry.cc:113] Plugin optimizer for device_type GPU is enabled.\n"
     ]
    },
    {
     "name": "stdout",
     "output_type": "stream",
     "text": [
      "54/54 [==============================] - 0s 8ms/step - loss: 0.4602 - accuracy: 0.7929 - val_loss: 1.0426 - val_accuracy: 0.3229\n",
      "Epoch 3/50\n",
      "54/54 [==============================] - 0s 8ms/step - loss: 0.3601 - accuracy: 0.8100 - val_loss: 0.6406 - val_accuracy: 0.6301\n",
      "Epoch 4/50\n",
      "54/54 [==============================] - 0s 9ms/step - loss: 0.3134 - accuracy: 0.8171 - val_loss: 0.4284 - val_accuracy: 0.7900\n",
      "Epoch 5/50\n",
      "54/54 [==============================] - 0s 8ms/step - loss: 0.2949 - accuracy: 0.8171 - val_loss: 0.3422 - val_accuracy: 0.8307\n",
      "Epoch 6/50\n",
      "54/54 [==============================] - 0s 8ms/step - loss: 0.2858 - accuracy: 0.8129 - val_loss: 0.2898 - val_accuracy: 0.8527\n",
      "Epoch 7/50\n",
      "54/54 [==============================] - 0s 7ms/step - loss: 0.2708 - accuracy: 0.8188 - val_loss: 0.2703 - val_accuracy: 0.8558\n",
      "Epoch 8/50\n",
      "54/54 [==============================] - 0s 7ms/step - loss: 0.2584 - accuracy: 0.8271 - val_loss: 0.2554 - val_accuracy: 0.8558\n",
      "Epoch 9/50\n",
      "54/54 [==============================] - 0s 7ms/step - loss: 0.2560 - accuracy: 0.8229 - val_loss: 0.2437 - val_accuracy: 0.8589\n",
      "Epoch 10/50\n",
      "54/54 [==============================] - 0s 7ms/step - loss: 0.2498 - accuracy: 0.8259 - val_loss: 0.2357 - val_accuracy: 0.8558\n",
      "Epoch 11/50\n",
      "54/54 [==============================] - 0s 7ms/step - loss: 0.2479 - accuracy: 0.8194 - val_loss: 0.2256 - val_accuracy: 0.8527\n",
      "Epoch 12/50\n",
      "54/54 [==============================] - 0s 7ms/step - loss: 0.2436 - accuracy: 0.8229 - val_loss: 0.2200 - val_accuracy: 0.8621\n",
      "Epoch 13/50\n",
      "54/54 [==============================] - 0s 7ms/step - loss: 0.2395 - accuracy: 0.8253 - val_loss: 0.2153 - val_accuracy: 0.8621\n",
      "Epoch 14/50\n",
      "54/54 [==============================] - 0s 7ms/step - loss: 0.2394 - accuracy: 0.8224 - val_loss: 0.2121 - val_accuracy: 0.8589\n",
      "Epoch 15/50\n",
      "54/54 [==============================] - 0s 7ms/step - loss: 0.2349 - accuracy: 0.8271 - val_loss: 0.2193 - val_accuracy: 0.8527\n",
      "Epoch 16/50\n",
      "54/54 [==============================] - 0s 7ms/step - loss: 0.2410 - accuracy: 0.8218 - val_loss: 0.2121 - val_accuracy: 0.8621\n",
      "Epoch 17/50\n",
      "54/54 [==============================] - 0s 7ms/step - loss: 0.2262 - accuracy: 0.8300 - val_loss: 0.2081 - val_accuracy: 0.8589\n",
      "Epoch 18/50\n",
      "54/54 [==============================] - 0s 7ms/step - loss: 0.2360 - accuracy: 0.8276 - val_loss: 0.2058 - val_accuracy: 0.8558\n",
      "Epoch 19/50\n",
      "54/54 [==============================] - 0s 7ms/step - loss: 0.2286 - accuracy: 0.8253 - val_loss: 0.2023 - val_accuracy: 0.8558\n",
      "Epoch 20/50\n",
      "54/54 [==============================] - 0s 8ms/step - loss: 0.2224 - accuracy: 0.8271 - val_loss: 0.2080 - val_accuracy: 0.8527\n",
      "Epoch 21/50\n",
      "54/54 [==============================] - 0s 8ms/step - loss: 0.2286 - accuracy: 0.8288 - val_loss: 0.2017 - val_accuracy: 0.8652\n",
      "Epoch 22/50\n",
      "54/54 [==============================] - 0s 7ms/step - loss: 0.2258 - accuracy: 0.8276 - val_loss: 0.1963 - val_accuracy: 0.8527\n",
      "Epoch 23/50\n",
      "54/54 [==============================] - 0s 8ms/step - loss: 0.2296 - accuracy: 0.8282 - val_loss: 0.1949 - val_accuracy: 0.8621\n",
      "Epoch 24/50\n",
      "54/54 [==============================] - 0s 8ms/step - loss: 0.2251 - accuracy: 0.8247 - val_loss: 0.1973 - val_accuracy: 0.8558\n",
      "Epoch 25/50\n",
      "54/54 [==============================] - 0s 8ms/step - loss: 0.2270 - accuracy: 0.8271 - val_loss: 0.1919 - val_accuracy: 0.8621\n",
      "Epoch 26/50\n",
      "54/54 [==============================] - 0s 7ms/step - loss: 0.2328 - accuracy: 0.8241 - val_loss: 0.1970 - val_accuracy: 0.8652\n",
      "Epoch 27/50\n",
      "54/54 [==============================] - 0s 8ms/step - loss: 0.2233 - accuracy: 0.8288 - val_loss: 0.1960 - val_accuracy: 0.8715\n",
      "Epoch 28/50\n",
      "54/54 [==============================] - 0s 8ms/step - loss: 0.2226 - accuracy: 0.8312 - val_loss: 0.1946 - val_accuracy: 0.8527\n",
      "Epoch 29/50\n",
      "54/54 [==============================] - 0s 8ms/step - loss: 0.2283 - accuracy: 0.8218 - val_loss: 0.2014 - val_accuracy: 0.8370\n",
      "Epoch 30/50\n",
      "54/54 [==============================] - 0s 7ms/step - loss: 0.2225 - accuracy: 0.8335 - val_loss: 0.2165 - val_accuracy: 0.8558\n",
      "Epoch 31/50\n",
      "54/54 [==============================] - 0s 7ms/step - loss: 0.2288 - accuracy: 0.8259 - val_loss: 0.1950 - val_accuracy: 0.8652\n",
      "Epoch 32/50\n",
      "54/54 [==============================] - 0s 7ms/step - loss: 0.2304 - accuracy: 0.8288 - val_loss: 0.1980 - val_accuracy: 0.8527\n",
      "Epoch 33/50\n",
      "54/54 [==============================] - 0s 8ms/step - loss: 0.2180 - accuracy: 0.8335 - val_loss: 0.1933 - val_accuracy: 0.8621\n"
     ]
    }
   ],
   "source": [
    "hist = model.fit(x_train, y_train, batch_size=32, epochs=50, validation_data=(x_val, y_val),callbacks = [earlystopping])"
   ]
  },
  {
   "cell_type": "markdown",
   "id": "96911da2",
   "metadata": {},
   "source": [
    "# 6. Analysis & Conclusion"
   ]
  },
  {
   "cell_type": "code",
   "execution_count": 7,
   "id": "1d7a3b1c",
   "metadata": {},
   "outputs": [
    {
     "data": {
      "text/html": [
       "<div>\n",
       "<style scoped>\n",
       "    .dataframe tbody tr th:only-of-type {\n",
       "        vertical-align: middle;\n",
       "    }\n",
       "\n",
       "    .dataframe tbody tr th {\n",
       "        vertical-align: top;\n",
       "    }\n",
       "\n",
       "    .dataframe thead th {\n",
       "        text-align: right;\n",
       "    }\n",
       "</style>\n",
       "<table border=\"1\" class=\"dataframe\">\n",
       "  <thead>\n",
       "    <tr style=\"text-align: right;\">\n",
       "      <th></th>\n",
       "      <th>loss</th>\n",
       "      <th>accuracy</th>\n",
       "      <th>val_loss</th>\n",
       "      <th>val_accuracy</th>\n",
       "    </tr>\n",
       "  </thead>\n",
       "  <tbody>\n",
       "    <tr>\n",
       "      <th>16</th>\n",
       "      <td>0.226185</td>\n",
       "      <td>0.83</td>\n",
       "      <td>0.208141</td>\n",
       "      <td>0.858934</td>\n",
       "    </tr>\n",
       "  </tbody>\n",
       "</table>\n",
       "</div>"
      ],
      "text/plain": [
       "        loss  accuracy  val_loss  val_accuracy\n",
       "16  0.226185      0.83  0.208141      0.858934"
      ]
     },
     "execution_count": 7,
     "metadata": {},
     "output_type": "execute_result"
    }
   ],
   "source": [
    "metrics_df = pd.DataFrame(hist.history)\n",
    "metrics_df.sample()"
   ]
  },
  {
   "cell_type": "code",
   "execution_count": 9,
   "id": "ab996088",
   "metadata": {},
   "outputs": [
    {
     "data": {
      "image/png": "[encoded data removed]",
      "text/plain": [
       "<Figure size 576x576 with 2 Axes>"
      ]
     },
     "metadata": {
      "needs_background": "light"
     },
     "output_type": "display_data"
    }
   ],
   "source": [
    "early_stop_epoch = 33\n",
    "\n",
    "acc = hist.history['accuracy']\n",
    "val_acc = hist.history['val_accuracy']\n",
    "\n",
    "loss = hist.history['loss']\n",
    "val_loss = hist.history['val_loss']\n",
    "\n",
    "epochs_range = range(early_stop_epoch)\n",
    "\n",
    "plt.figure(figsize=(8, 8))\n",
    "plt.subplot(1, 2, 1)\n",
    "plt.plot(epochs_range, acc, label='Training Accuracy')\n",
    "plt.plot(epochs_range, val_acc, label='Validation Accuracy')\n",
    "plt.legend(loc='lower right')\n",
    "plt.title('Training and Validation Accuracy')\n",
    "\n",
    "plt.subplot(1, 2, 2)\n",
    "plt.plot(epochs_range, loss, label='Training Loss')\n",
    "plt.plot(epochs_range, val_loss, label='Validation Loss')\n",
    "plt.legend(loc='upper right')\n",
    "plt.title('Training and Validation Loss')\n",
    "plt.show()"
   ]
  },
  {
   "cell_type": "code",
   "execution_count": 10,
   "id": "c06081a2",
   "metadata": {},
   "outputs": [
    {
     "name": "stdout",
     "output_type": "stream",
     "text": [
      "Avg Training Accuracy: 81.3209\n",
      "Avg Validation Accuracy: 80.9442\n"
     ]
    }
   ],
   "source": [
    "print(f'Avg Training Accuracy: {round(metrics_df.accuracy.mean() * 100, 4)}')\n",
    "print(f'Avg Validation Accuracy: {round(metrics_df.val_accuracy.mean() * 100, 4)}')"
   ]
  },
  {
   "cell_type": "code",
   "execution_count": 11,
   "id": "16f58531",
   "metadata": {},
   "outputs": [
    {
     "name": "stdout",
     "output_type": "stream",
     "text": [
      "4/4 [==============================] - 0s 12ms/step - loss: 0.2105 - accuracy: 0.8505\n"
     ]
    },
    {
     "data": {
      "text/plain": [
       "[0.21046559512615204, 0.8504672646522522]"
      ]
     },
     "execution_count": 11,
     "metadata": {},
     "output_type": "execute_result"
    }
   ],
   "source": [
    "model.evaluate(x_test, y_test)"
   ]
  },
  {
   "cell_type": "code",
   "execution_count": 14,
   "id": "49a80e4c",
   "metadata": {},
   "outputs": [
    {
     "name": "stdout",
     "output_type": "stream",
     "text": [
      "              precision    recall  f1-score   support\n",
      "\n",
      "      normal       0.86      0.99      0.92        83\n",
      "     suspect       0.75      0.53      0.62        17\n",
      "pathological       0.00      0.00      0.00         7\n",
      "\n",
      "    accuracy                           0.85       107\n",
      "   macro avg       0.54      0.51      0.51       107\n",
      "weighted avg       0.79      0.85      0.81       107\n",
      "\n"
     ]
    },
    {
     "name": "stderr",
     "output_type": "stream",
     "text": [
      "/Users/rachelrenegado/miniforge3/envs/bmen415_2/lib/python3.8/site-packages/sklearn/metrics/_classification.py:1318: UndefinedMetricWarning: Precision and F-score are ill-defined and being set to 0.0 in labels with no predicted samples. Use `zero_division` parameter to control this behavior.\n",
      "  _warn_prf(average, modifier, msg_start, len(result))\n",
      "/Users/rachelrenegado/miniforge3/envs/bmen415_2/lib/python3.8/site-packages/sklearn/metrics/_classification.py:1318: UndefinedMetricWarning: Precision and F-score are ill-defined and being set to 0.0 in labels with no predicted samples. Use `zero_division` parameter to control this behavior.\n",
      "  _warn_prf(average, modifier, msg_start, len(result))\n",
      "/Users/rachelrenegado/miniforge3/envs/bmen415_2/lib/python3.8/site-packages/sklearn/metrics/_classification.py:1318: UndefinedMetricWarning: Precision and F-score are ill-defined and being set to 0.0 in labels with no predicted samples. Use `zero_division` parameter to control this behavior.\n",
      "  _warn_prf(average, modifier, msg_start, len(result))\n"
     ]
    }
   ],
   "source": [
    "from sklearn.metrics import classification_report, confusion_matrix\n",
    "\n",
    "y_pred = model.predict(x_test)\n",
    "y_pred = np.argmax(y_pred, axis=1)\n",
    "\n",
    "conf_mat = confusion_matrix(y_test, y_pred)\n",
    "print(classification_report(y_test, y_pred, target_names=['normal', 'suspect', 'pathological'] ))"
   ]
  },
  {
   "cell_type": "code",
   "execution_count": 15,
   "id": "d57af698",
   "metadata": {},
   "outputs": [
    {
     "name": "stdout",
     "output_type": "stream",
     "text": [
      "[[82  1  0]\n",
      " [ 8  9  0]\n",
      " [ 5  2  0]]\n",
      "9 82 1 8\n"
     ]
    }
   ],
   "source": [
    "print(conf_mat)\n",
    "\n",
    "TP = conf_mat[1, 1]\n",
    "TN = conf_mat[0, 0]\n",
    "FP = conf_mat[0, 1]\n",
    "FN = conf_mat[1, 0]\n",
    "\n",
    "print (TP, TN, FP, FN)"
   ]
  },
  {
   "cell_type": "code",
   "execution_count": 16,
   "id": "11e56e0f",
   "metadata": {},
   "outputs": [
    {
     "data": {
      "image/png": "[encoded data removed]",
      "text/plain": [
       "<Figure size 432x288 with 2 Axes>"
      ]
     },
     "metadata": {
      "needs_background": "light"
     },
     "output_type": "display_data"
    }
   ],
   "source": [
    "confusion = sb.heatmap(confusion_matrix(y_test, y_pred), annot=True, cmap='Blues')\n",
    "confusion.set_title(\"Fetal Health Classification: Decision Tree\")\n",
    "confusion.set_xlabel(\"\\nPredicted Values\")\n",
    "confusion.set_ylabel(\"Actual Values\")\n",
    "confusion.xaxis.set_ticklabels(['Normal', 'Suspect', 'Pathological'])\n",
    "confusion.yaxis.set_ticklabels(['Normal', 'Suspect', 'Pathological'])\n",
    "\n",
    "plt.show()"
   ]
  },
  {
   "cell_type": "code",
   "execution_count": null,
   "id": "fe13fa78",
   "metadata": {},
   "outputs": [],
   "source": []
  }
 ],
 "metadata": {
  "kernelspec": {
   "display_name": "Python 3 (ipykernel)",
   "language": "python",
   "name": "python3"
  },
  "language_info": {
   "codemirror_mode": {
    "name": "ipython",
    "version": 3
   },
   "file_extension": ".py",
   "mimetype": "text/x-python",
   "name": "python",
   "nbconvert_exporter": "python",
   "pygments_lexer": "ipython3",
   "version": "3.8.13"
  }
 },
 "nbformat": 4,
 "nbformat_minor": 5
}
